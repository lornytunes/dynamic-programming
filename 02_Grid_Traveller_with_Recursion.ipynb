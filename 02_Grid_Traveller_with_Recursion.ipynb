{
 "cells": [
  {
   "cell_type": "markdown",
   "id": "a6143339-4312-4b3d-a421-6086661ff16c",
   "metadata": {},
   "source": [
    "# Grid Traveller - Recursive solution"
   ]
  },
  {
   "cell_type": "code",
   "execution_count": 1,
   "id": "961ca99b-3f6e-4b5c-9e84-d6c4b2e3c606",
   "metadata": {},
   "outputs": [],
   "source": [
    "from typing import Callable"
   ]
  },
  {
   "cell_type": "markdown",
   "id": "4f7c03db-e258-4316-8715-aae1a3b86239",
   "metadata": {},
   "source": [
    "Given a grid of cells how many ways can you travel from the top left cell to the bottom right cell.\n",
    "\n",
    "You can only move one square to the right and one sqare down.\n",
    "\n",
    "For example, suppose you start with a 2x3 grid like this:\n",
    "\n",
    "![2x3 grid](img/grid_traveler_2_3_1.png)"
   ]
  },
  {
   "cell_type": "markdown",
   "id": "784f9be4-e82c-4d6c-8a4d-9288fd6e2025",
   "metadata": {},
   "source": [
    "Then there are three ways to to get from `S` to `E`. You go `right->right->down`:\n",
    "\n",
    "![2x3 1](img/grid_traveler_2_3_2.png)\n",
    "\n",
    "Or `right->down->right`\n",
    "\n",
    "![2x3 2](img/grid_traveler_2_3_3.png)\n",
    "\n",
    "or `down->right->right`\n",
    "\n",
    "![2x3 3](img/grid_traveler_2_3_4.png)"
   ]
  },
  {
   "cell_type": "markdown",
   "id": "e2018a19-1485-4162-a50b-5fa01139f4fb",
   "metadata": {},
   "source": [
    "So the function will need to take the size of the grid (in rows and columns) and return an integer representing the number of paths:"
   ]
  },
  {
   "cell_type": "code",
   "execution_count": 3,
   "id": "e292a6e7-d410-46b2-8db7-82539408b467",
   "metadata": {},
   "outputs": [],
   "source": [
    "def grid_traveler(m: int, n: int) -> int:\n",
    "    '''\n",
    "    Computes the number of possible pathways in an mxn grid\n",
    "    '''\n",
    "    return 0"
   ]
  },
  {
   "cell_type": "markdown",
   "id": "ac4b2f45-0d96-48df-86ce-da64287c4fb2",
   "metadata": {},
   "source": [
    "And some tests with known values"
   ]
  },
  {
   "cell_type": "code",
   "execution_count": 13,
   "id": "a0b12221-ac6e-48bd-a373-86512cc350d4",
   "metadata": {},
   "outputs": [],
   "source": [
    "fixtures = [\n",
    "    (2, 3, 3),\n",
    "    (3, 3, 6),\n",
    "    (4, 3, 10),\n",
    "]\n",
    "\n",
    "\n",
    "def test_grid_traveler(grid_traveler: Callable):\n",
    "    \n",
    "    for rows, columns, expected in fixtures:\n",
    "        print('{} x {}: {} ({})'.format(\n",
    "            rows,\n",
    "            columns,\n",
    "            grid_traveler(rows, columns),\n",
    "            expected\n",
    "        ))"
   ]
  },
  {
   "cell_type": "code",
   "execution_count": 14,
   "id": "84dd4658-7d2a-43bb-9503-a58df646540d",
   "metadata": {},
   "outputs": [
    {
     "name": "stdout",
     "output_type": "stream",
     "text": [
      "2 x 3: 3 (3)\n",
      "3 x 3: 6 (6)\n",
      "4 x 3: 10 (10)\n"
     ]
    }
   ],
   "source": [
    "# these will initially fail\n",
    "test_grid_traveler(grid_traveler)"
   ]
  },
  {
   "cell_type": "markdown",
   "id": "6645ac9c-a771-40f2-9a0a-6adb3d09f224",
   "metadata": {},
   "source": [
    "To solve this start with a 3x3 grid:\n",
    "\n",
    "![3x3 0](img/grid_traveler_3_3_1.png)\n",
    "\n",
    "Lets say we move one square down like this:\n",
    "\n",
    "![3x3 1](img/grid_traveler_3_3_2.png)\n",
    "\n",
    "Now we are left with a 2x3 grid, which we know has three possible paths. A similar argument follows if we initially move right. This suggests that the problem can be solved by breaking it down in to smaller sub-problems.\n",
    "\n",
    "Our base is the trivial 1x1 grid\n",
    "\n",
    "![1x1](img/grid_traveler_1_1.png)\n",
    "\n",
    "which has the single solution 1 - i.e the step it took to get us here, plus zero.\n",
    "\n",
    "We can implement our base case together with any checks for zero rows and columns:"
   ]
  },
  {
   "cell_type": "code",
   "execution_count": 7,
   "id": "88682d59-3b9a-41d6-8524-b2e906b7be62",
   "metadata": {},
   "outputs": [],
   "source": [
    "def grid_traveler(m: int, n: int) -> int:\n",
    "    '''\n",
    "    Computes the number of possible pathways in an mxn grid\n",
    "    '''\n",
    "    if m == 1 and n == 1:\n",
    "        return 1\n",
    "    if m == 0 or n == 0:\n",
    "        return 0\n",
    "    return 0"
   ]
  },
  {
   "cell_type": "code",
   "execution_count": 8,
   "id": "01c5822a-14b3-4f5e-bf40-671a4865bf6a",
   "metadata": {},
   "outputs": [
    {
     "name": "stdout",
     "output_type": "stream",
     "text": [
      "2 x 3: 0 (3)\n",
      "3 x 3: 0 (6)\n",
      "4 x 3: 0 (10)\n",
      "18 x 18: 0 (0)\n"
     ]
    }
   ],
   "source": [
    "test_grid_traveler(grid_traveler)"
   ]
  },
  {
   "cell_type": "markdown",
   "id": "9537d95f-9549-4eb8-81b4-7160ed332b2b",
   "metadata": {},
   "source": [
    "And the recursive solution suggests it self if we think of our possible moves as branches of a tree:\n",
    "\n",
    "![2x3 tree 1](img/grid_traveler_2_3_tree_1.png)"
   ]
  },
  {
   "cell_type": "markdown",
   "id": "4c021be1-b479-43c6-8e0c-a5ebe9eb7ad8",
   "metadata": {},
   "source": [
    "If we start at the top left of a 2x3 tree and go right, we have a 2x2 tree. If we go left we have a 1x3 tree. Recursing would give us the following:\n",
    "\n",
    "![2x3 tree 2](img/grid_traveler_2_3_tree_2.png)\n",
    "\n",
    "An the base cases would return like this:\n",
    "\n",
    "![2x3 tree 3](img/grid_traveler_2_3_tree_3.png)\n",
    "\n",
    "So the number of paths is the sum of the sub-grid one row down plus the sub-grid on column to the left, or\n",
    "\n",
    "`grid_traveler(m, n) = grid_traveler(m - 1, n) + grid_traveler(m, n - 1)`\n",
    "\n",
    "Giving us our initial implementation"
   ]
  },
  {
   "cell_type": "code",
   "execution_count": 15,
   "id": "9717408f-5ac9-4f4a-930c-76c275b80bb9",
   "metadata": {},
   "outputs": [],
   "source": [
    "def grid_traveler(m: int, n: int) -> int:\n",
    "    '''\n",
    "    Computes the number of possible pathways in an mxn grid\n",
    "    \n",
    "    params\n",
    "    \n",
    "    m: the number of rows\n",
    "    n: the number of columns\n",
    "    \n",
    "    :return: The number of individual pathways from top left to bottom right\n",
    "    '''\n",
    "    if m == 1 and n == 1:\n",
    "        return 1\n",
    "    if m == 0 or n == 0:\n",
    "        return 0\n",
    "    # m is the number of rows, n is the number of columns\n",
    "    # return the sum of going down and going right\n",
    "    return grid_traveler(m - 1, n) + grid_traveler(m, n - 1)"
   ]
  },
  {
   "cell_type": "code",
   "execution_count": 16,
   "id": "fa2d5090-f1bb-4ca0-be36-353371d8a1e7",
   "metadata": {},
   "outputs": [
    {
     "name": "stdout",
     "output_type": "stream",
     "text": [
      "2 x 3: 3 (3)\n",
      "3 x 3: 6 (6)\n",
      "4 x 3: 10 (10)\n"
     ]
    }
   ],
   "source": [
    "test_grid_traveler(grid_traveler)"
   ]
  },
  {
   "cell_type": "code",
   "execution_count": null,
   "id": "dfddfca1-be8e-44f8-9a7f-6b64ce332c9b",
   "metadata": {},
   "outputs": [],
   "source": [
    "fixtures.append((18, 18, 0),)"
   ]
  }
 ],
 "metadata": {
  "kernelspec": {
   "display_name": "Python 3 (ipykernel)",
   "language": "python",
   "name": "python3"
  },
  "language_info": {
   "codemirror_mode": {
    "name": "ipython",
    "version": 3
   },
   "file_extension": ".py",
   "mimetype": "text/x-python",
   "name": "python",
   "nbconvert_exporter": "python",
   "pygments_lexer": "ipython3",
   "version": "3.9.5"
  }
 },
 "nbformat": 4,
 "nbformat_minor": 5
}
