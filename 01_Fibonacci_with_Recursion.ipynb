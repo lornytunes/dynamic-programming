{
 "cells": [
  {
   "cell_type": "markdown",
   "id": "3a509fb4-00d4-4dc2-bea2-b63c428e6d8a",
   "metadata": {},
   "source": [
    "# Fibonacci - Recursive implementation"
   ]
  },
  {
   "cell_type": "code",
   "execution_count": null,
   "id": "df3bb807-8446-44fa-9f54-7110e7c5a64d",
   "metadata": {},
   "outputs": [],
   "source": [
    "from typing import Callable, Dict\n",
    "from functools import lru_cache"
   ]
  },
  {
   "cell_type": "markdown",
   "id": "81b1d0a6-f71f-4d82-9da5-73b80f7d551a",
   "metadata": {},
   "source": [
    "The first task is to find the nth finonacci number. Start with some test data that represents where we want to get to"
   ]
  },
  {
   "cell_type": "code",
   "execution_count": null,
   "id": "65d1fb85-a7c8-4aa0-aa23-81d57d191e87",
   "metadata": {},
   "outputs": [],
   "source": [
    "FIXTURES = [\n",
    "    (1, 1,),\n",
    "    (2, 1,),\n",
    "    (3, 2,),\n",
    "    (5, 5,),\n",
    "    (6, 8,),\n",
    "    (7, 13,),\n",
    "    (8, 21,),\n",
    "    (12, 144,),\n",
    "    (15, 610,),\n",
    "]"
   ]
  },
  {
   "cell_type": "code",
   "execution_count": null,
   "id": "0406be63-e377-4ebb-a5df-e311827c552c",
   "metadata": {},
   "outputs": [],
   "source": [
    "def test_fib(fib: Callable):\n",
    "    for input_value, expected_value in FIXTURES:\n",
    "        output = fib(input_value)\n",
    "        print(f'fib({input_value}) = {output}: expected {expected_value}')"
   ]
  },
  {
   "cell_type": "markdown",
   "id": "6b6b4d1f-2d02-4fe0-aa15-c4c6af337209",
   "metadata": {},
   "source": [
    "Our first implementation uses recursion"
   ]
  },
  {
   "cell_type": "code",
   "execution_count": null,
   "id": "2124470f-4f59-4db2-9412-f2ffe014c3e9",
   "metadata": {},
   "outputs": [],
   "source": [
    "def fib(n: int) -> int:\n",
    "    '''\n",
    "    Computes the nth fibonacci number where F(n) = F(n-1) + F(n-2)\n",
    "    '''\n",
    "    if n <= 2:\n",
    "        return 1\n",
    "    return fib(n - 1) + fib(n - 2)"
   ]
  },
  {
   "cell_type": "code",
   "execution_count": null,
   "id": "8edbe9e7-0430-4473-89a9-c8b2b9efd2c0",
   "metadata": {},
   "outputs": [],
   "source": [
    "test_fib(fib)"
   ]
  },
  {
   "cell_type": "markdown",
   "id": "4e5874a3-9ba3-4774-8b63-a4f538dc3861",
   "metadata": {},
   "source": [
    "This works, but doesn't scale"
   ]
  },
  {
   "cell_type": "code",
   "execution_count": null,
   "id": "a83d5373-3981-40aa-8f5d-93268fe61902",
   "metadata": {},
   "outputs": [],
   "source": [
    "FIXTURES.append((50, 12586269025,))\n",
    "# this will take too long\n",
    "test_fib(fib)"
   ]
  },
  {
   "cell_type": "markdown",
   "id": "3ed89405-412e-4a8c-b7a1-bbd6e755711a",
   "metadata": {},
   "source": [
    "The problem is the depth of recursive calls and the fact that sub-problems are computed over and over again:\n",
    "\n",
    "![Call structure of our initial fibonacci implementation](img/fib_6.png)"
   ]
  },
  {
   "cell_type": "markdown",
   "id": "79cdce71-ad19-4996-b3d1-078cefe3cc7d",
   "metadata": {},
   "source": [
    "To avoid this issue we use a technique called `memoization` where a value is only computed once. In subsequent invocations it is retrieved from a cache"
   ]
  },
  {
   "cell_type": "code",
   "execution_count": null,
   "id": "ae9864bc-a7fb-40ca-877b-08c41967348b",
   "metadata": {},
   "outputs": [],
   "source": [
    "def fib(n: int, memo: Dict={}) -> int:\n",
    "    '''\n",
    "    Computes the nth fibonacci number\n",
    "    '''\n",
    "    # is it cached?\n",
    "    if n in memo:\n",
    "        return memo[n]\n",
    "    if n <= 2:\n",
    "        return 1\n",
    "    # calculate and store the nth number\n",
    "    # uncomment this line to see the effect of having memo as a mutable parameter\n",
    "    # print(f'Calculating F({n})')\n",
    "    memo[n] = fib(n - 1, memo) + fib(n - 2, memo)\n",
    "    return memo[n]"
   ]
  },
  {
   "cell_type": "code",
   "execution_count": null,
   "id": "225e523f-b302-4a89-98a3-8fb94d7ebe6b",
   "metadata": {},
   "outputs": [],
   "source": [
    "test_fib(fib)"
   ]
  },
  {
   "cell_type": "markdown",
   "id": "3d5a4f33-9045-4ff7-ada7-0c7737ea505a",
   "metadata": {},
   "source": [
    "This is much faster but there are currently two problems with the implementation as it stands\n",
    "\n",
    "1. The `memo` dict is part of the functions internal implementation, and should never be visible to clients\n",
    "2. The provide a new dictionary instance as a default. However a `dict` is a *mutable* type than can be (and is) changed during function execution. That means that next time you call the function the dictionary will be in the state that it was when the previous call finished.\n",
    "\n",
    "To see this type `fib.` followed by `shift-tab` to see the function signature and docstring. You will see that the `memo` argument now contains cached values from the earlier invocation.\n",
    "\n",
    "You can also uncomment the line that prints when a fibonacci number is being computed (rather than retieved from the cache) and call the function twice."
   ]
  },
  {
   "cell_type": "code",
   "execution_count": null,
   "id": "7ea9e948-25a5-4412-b90a-70a4bb01e887",
   "metadata": {},
   "outputs": [],
   "source": [
    "fib(10)"
   ]
  },
  {
   "cell_type": "code",
   "execution_count": null,
   "id": "ccf4a79a-6631-4d68-9f21-0fc9c4895f9c",
   "metadata": {},
   "outputs": [],
   "source": [
    "fib(10)"
   ]
  },
  {
   "cell_type": "markdown",
   "id": "dd399899-0026-49c9-a329-36ab574d64c4",
   "metadata": {},
   "source": [
    "Notice that the second time all values were retrieved from the cache. This is a side effect that can cause some very difficult and unexpected bugs. We shall see an example when we try and use the same technique in our grid traveller implementation\n",
    "\n",
    "The solution is to remove the `memo` dict as a parameter and instead have it as an attribute visible only in the function itself. To achieve this we use and inner function:"
   ]
  },
  {
   "cell_type": "code",
   "execution_count": null,
   "id": "22c38be9-d474-49e4-b126-4a2914f10265",
   "metadata": {},
   "outputs": [],
   "source": [
    "def fib(n: int) -> int:\n",
    "    '''\n",
    "    Computes the nth fibonacci number\n",
    "    '''\n",
    "    \n",
    "    # this we be visible between all invocations of the inner function\n",
    "    memo = {}\n",
    "\n",
    "    def _fib(n: int) -> int:\n",
    "        if n in memo:\n",
    "            return memo[n]\n",
    "        if n <= 2:\n",
    "            return 1\n",
    "        memo[n] = _fib(n - 1) + _fib(n - 2)\n",
    "        return memo[n]\n",
    "    # return the computed value to the client\n",
    "    return _fib(n)"
   ]
  },
  {
   "cell_type": "code",
   "execution_count": null,
   "id": "73bd8377-4785-40ae-9734-25e841a542fd",
   "metadata": {},
   "outputs": [],
   "source": [
    "test_fib(fib)"
   ]
  },
  {
   "cell_type": "markdown",
   "id": "91cf42ff-0542-47d4-8c19-56fc0619e7c0",
   "metadata": {},
   "source": [
    "Extending a function with its own `dict` for caching can also be achived via a decorator:"
   ]
  },
  {
   "cell_type": "code",
   "execution_count": null,
   "id": "6adaee5e-8ff6-4bae-91a9-1a77c455fdbc",
   "metadata": {},
   "outputs": [],
   "source": [
    "def memoize(f: Callable) -> Callable:\n",
    "    '''\n",
    "    Provides memoization for a decoration function\n",
    "    '''\n",
    "    _cache = {}\n",
    "    \n",
    "    # this is the inner function that\n",
    "    # will be the one called after decoration\n",
    "    # it calls the decorated function only when the value is not in the cache\n",
    "    def wrapper(n: int) -> int:\n",
    "        if n in _cache:\n",
    "            return _cache[n]\n",
    "        _cache[n] = f(n)\n",
    "        return _cache[n]\n",
    "    return wrapper"
   ]
  },
  {
   "cell_type": "code",
   "execution_count": null,
   "id": "d0ad117a-12ed-4fe9-85f7-fe238121dd59",
   "metadata": {},
   "outputs": [],
   "source": [
    "# our original naive implementation memoized\n",
    "\n",
    "@memoize\n",
    "def fib(n: int) -> int:\n",
    "    if n <= 2:\n",
    "        return 1\n",
    "    return fib(n - 1) + fib(n - 2)"
   ]
  },
  {
   "cell_type": "code",
   "execution_count": null,
   "id": "e1e4f0f6-e4f5-4c52-a802-d5ccb0176e3e",
   "metadata": {},
   "outputs": [],
   "source": [
    "test_fib(fib)"
   ]
  },
  {
   "cell_type": "markdown",
   "id": "09e63b74-c080-48bc-8f25-0574120f5889",
   "metadata": {},
   "source": [
    "Our decorator provides memoization service for any function that takes a single integer argument. The `lru_cache` decorator in the standard library extends this to functions with any signature"
   ]
  },
  {
   "cell_type": "code",
   "execution_count": null,
   "id": "21a7c975-5711-4ee3-8c4e-05d4a61a5e81",
   "metadata": {},
   "outputs": [],
   "source": [
    "@lru_cache(maxsize=4096)\n",
    "def fib(n: int) -> int:\n",
    "    if n <= 2:\n",
    "        return 1\n",
    "    return fib(n - 1) + fib(n - 2)"
   ]
  },
  {
   "cell_type": "code",
   "execution_count": null,
   "id": "05ff3ca2-ac46-4246-83b0-737e86fb0783",
   "metadata": {},
   "outputs": [],
   "source": [
    "test_fib(fib)"
   ]
  }
 ],
 "metadata": {
  "kernelspec": {
   "display_name": "Python 3 (ipykernel)",
   "language": "python",
   "name": "python3"
  },
  "language_info": {
   "codemirror_mode": {
    "name": "ipython",
    "version": 3
   },
   "file_extension": ".py",
   "mimetype": "text/x-python",
   "name": "python",
   "nbconvert_exporter": "python",
   "pygments_lexer": "ipython3",
   "version": "3.9.5"
  }
 },
 "nbformat": 4,
 "nbformat_minor": 5
}
